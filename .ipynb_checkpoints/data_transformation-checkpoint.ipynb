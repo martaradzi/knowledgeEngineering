{
 "cells": [
  {
   "cell_type": "markdown",
   "metadata": {},
   "source": [
    "# Imports "
   ]
  },
  {
   "cell_type": "code",
   "execution_count": 1,
   "metadata": {},
   "outputs": [],
   "source": [
    "import pandas as pd\n",
    "import csv\n",
    "import numpy as np\n",
    "\n",
    "%matplotlib inline"
   ]
  },
  {
   "cell_type": "markdown",
   "metadata": {},
   "source": [
    "# Read in Files"
   ]
  },
  {
   "cell_type": "code",
   "execution_count": 37,
   "metadata": {},
   "outputs": [],
   "source": [
    "books = pd.read_csv(\"books_final1.csv\")"
   ]
  },
  {
   "cell_type": "markdown",
   "metadata": {},
   "source": [
    "# Show Column Names"
   ]
  },
  {
   "cell_type": "code",
   "execution_count": 38,
   "metadata": {},
   "outputs": [
    {
     "name": "stdout",
     "output_type": "stream",
     "text": [
      "goodreads_book_id\n",
      "tag_id\n",
      "count\n",
      "tag_name.x\n",
      "genre.x\n",
      "tag_name.y\n",
      "genre.y\n",
      "book_id\n",
      "best_book_id\n",
      "work_id\n",
      "books_count\n",
      "isbn\n",
      "isbn13\n",
      "authors\n",
      "original_publication_year\n",
      "original_title\n",
      "title\n",
      "language_code\n",
      "average_rating\n",
      "ratings_count\n",
      "work_ratings_count\n",
      "work_text_reviews_count\n",
      "ratings_1\n",
      "ratings_2\n",
      "ratings_3\n",
      "ratings_4\n",
      "ratings_5\n",
      "image_url\n",
      "small_image_url\n"
     ]
    }
   ],
   "source": [
    "for col in books.columns: \n",
    "    print(col)"
   ]
  },
  {
   "cell_type": "markdown",
   "metadata": {},
   "source": [
    "# Drop Unneded Columns"
   ]
  },
  {
   "cell_type": "code",
   "execution_count": 39,
   "metadata": {},
   "outputs": [],
   "source": [
    "books.drop(['work_ratings_count', 'work_text_reviews_count','original_title','isbn13','small_image_url','ratings_1','ratings_2','ratings_3','ratings_4','ratings_5'],inplace=True, axis=1)"
   ]
  },
  {
   "cell_type": "code",
   "execution_count": 40,
   "metadata": {},
   "outputs": [
    {
     "name": "stdout",
     "output_type": "stream",
     "text": [
      "goodreads_book_id\n",
      "tag_id\n",
      "count\n",
      "tag_name.x\n",
      "genre.x\n",
      "tag_name.y\n",
      "genre.y\n",
      "book_id\n",
      "best_book_id\n",
      "work_id\n",
      "books_count\n",
      "isbn\n",
      "authors\n",
      "original_publication_year\n",
      "title\n",
      "language_code\n",
      "average_rating\n",
      "ratings_count\n",
      "image_url\n"
     ]
    }
   ],
   "source": [
    "for col in books.columns: \n",
    "    print(col)"
   ]
  },
  {
   "cell_type": "markdown",
   "metadata": {},
   "source": [
    "# Deleting Not English Languages"
   ]
  },
  {
   "cell_type": "code",
   "execution_count": 41,
   "metadata": {},
   "outputs": [
    {
     "data": {
      "text/plain": [
       "array(['eng', 'en-US', nan, 'en-GB', 'en-CA', 'spa', 'fre', 'ger', 'ita',\n",
       "       'mul', 'pol', 'por', 'per', 'vie', 'nl', 'rus', 'tur', 'ara',\n",
       "       'rum', 'ind', 'jpn', 'fil', 'swe', 'nor', 'dan', 'en'],\n",
       "      dtype=object)"
      ]
     },
     "execution_count": 41,
     "metadata": {},
     "output_type": "execute_result"
    }
   ],
   "source": [
    "books.language_code.unique()"
   ]
  },
  {
   "cell_type": "code",
   "execution_count": 43,
   "metadata": {},
   "outputs": [],
   "source": [
    "books = books[books.language_code != 'spa']\n",
    "books = books[books.language_code != 'fre']\n",
    "books = books[books.language_code != 'ger']\n",
    "books = books[books.language_code != 'ita']\n",
    "books = books[books.language_code != 'mul']\n",
    "books = books[books.language_code != 'pol']\n",
    "books = books[books.language_code != 'por']\n",
    "books = books[books.language_code != 'vie']\n",
    "books = books[books.language_code != 'nl']\n",
    "books = books[books.language_code != 'rus']\n",
    "books = books[books.language_code != 'tur']\n",
    "books = books[books.language_code != 'ara']\n",
    "books = books[books.language_code != 'rum']\n",
    "books = books[books.language_code != 'ind']\n",
    "books = books[books.language_code != 'jpn']\n",
    "books = books[books.language_code != 'fil']\n",
    "books = books[books.language_code != 'swe']\n",
    "books = books[books.language_code != 'nor']\n",
    "books = books[books.language_code != 'dan']\n",
    "books = books[books.language_code != 'per']\n",
    "books = books[books.language_code != 'en']"
   ]
  },
  {
   "cell_type": "code",
   "execution_count": 44,
   "metadata": {},
   "outputs": [
    {
     "data": {
      "text/plain": [
       "array(['eng', 'en-US', nan, 'en-GB', 'en-CA'], dtype=object)"
      ]
     },
     "execution_count": 44,
     "metadata": {},
     "output_type": "execute_result"
    }
   ],
   "source": [
    "books.language_code.unique()"
   ]
  },
  {
   "cell_type": "code",
   "execution_count": 47,
   "metadata": {},
   "outputs": [],
   "source": [
    "books = books.rename(columns = {'genre.x': 'genre_x', 'genre.y': 'genre_y', 'tag_name.x': 'tag_name_x',  'tag_name.y': 'tag_name_y'})"
   ]
  },
  {
   "cell_type": "code",
   "execution_count": 48,
   "metadata": {},
   "outputs": [
    {
     "name": "stdout",
     "output_type": "stream",
     "text": [
      "goodreads_book_id\n",
      "tag_id\n",
      "count\n",
      "tag_name_x\n",
      "genre_x\n",
      "tag_name_y\n",
      "genre_y\n",
      "book_id\n",
      "best_book_id\n",
      "work_id\n",
      "books_count\n",
      "isbn\n",
      "authors\n",
      "original_publication_year\n",
      "title\n",
      "language_code\n",
      "average_rating\n",
      "ratings_count\n",
      "image_url\n"
     ]
    }
   ],
   "source": [
    "for col in books.columns: \n",
    "    print(col)"
   ]
  },
  {
   "cell_type": "markdown",
   "metadata": {},
   "source": [
    "# Genres of the Books"
   ]
  },
  {
   "cell_type": "code",
   "execution_count": 54,
   "metadata": {},
   "outputs": [
    {
     "data": {
      "text/plain": [
       "array(['paranormal', 'scifi', 'fantasy', 'action', 'romance', 'mystery',\n",
       "       'suspense', 'humour', 'adult', 'philosophy', 'historical',\n",
       "       'nonfiction', 'literary-fiction', 'drama', 'horror', 'crime'],\n",
       "      dtype=object)"
      ]
     },
     "execution_count": 54,
     "metadata": {},
     "output_type": "execute_result"
    }
   ],
   "source": [
    "books.genre_x.unique()"
   ]
  },
  {
   "cell_type": "code",
   "execution_count": 51,
   "metadata": {},
   "outputs": [
    {
     "data": {
      "text/plain": [
       "array(['paranormal', 'supernatural', 'sci-fi-fantasy', 'fantasy-sci-fi',\n",
       "       'fantasy', 'adventure', 'romance', 'mystery', 'scifi-fantasy',\n",
       "       'science-fiction-fantasy', 'sci-fi', 'fantasy-scifi', 'action',\n",
       "       'thriller', 'science-fiction', 'humor', 'funny',\n",
       "       'action-adventure', 'science', 'adult', 'adult-fiction', 'humour',\n",
       "       'scifi', 'philosophy', 'history', 'nonfiction', 'historical',\n",
       "       'non-fiction', 'historical-fiction', 'literary-fiction', 'drama',\n",
       "       'thrillers', 'mystery-thriller', 'suspense', 'horror', 'crime',\n",
       "       'detective', 'mysteries', 'mystery-crime', 'crime-mystery',\n",
       "       'mystery-suspense', 'crime-fiction', 'suspense-thriller'],\n",
       "      dtype=object)"
      ]
     },
     "execution_count": 51,
     "metadata": {},
     "output_type": "execute_result"
    }
   ],
   "source": [
    "books.tag_name_x.unique()"
   ]
  },
  {
   "cell_type": "code",
   "execution_count": null,
   "metadata": {},
   "outputs": [],
   "source": []
  }
 ],
 "metadata": {
  "kernelspec": {
   "display_name": "Python 3",
   "language": "python",
   "name": "python3"
  },
  "language_info": {
   "codemirror_mode": {
    "name": "ipython",
    "version": 3
   },
   "file_extension": ".py",
   "mimetype": "text/x-python",
   "name": "python",
   "nbconvert_exporter": "python",
   "pygments_lexer": "ipython3",
   "version": "3.7.3"
  }
 },
 "nbformat": 4,
 "nbformat_minor": 2
}
